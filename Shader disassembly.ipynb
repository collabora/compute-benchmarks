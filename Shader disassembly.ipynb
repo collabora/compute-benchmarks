{
 "cells": [
  {
   "cell_type": "code",
   "execution_count": null,
   "id": "5b140004",
   "metadata": {},
   "outputs": [
    {
     "name": "stderr",
     "output_type": "stream",
     "text": [
      "Found 2 devices\n",
      "device 0: (null) (null) EGL_EXT_device_drm EGL_EXT_device_drm_render_node\n",
      "device 1: (null) (null) EGL_MESA_device_software EGL_EXT_device_drm_render_node\n",
      "eglInitialize: 1.4\n",
      "egl 1.4, GLES 3.1\n",
      "Panfrost Mali-G52 (Panfrost) OpenGL ES 3.1 Mesa 22.2.0\n"
     ]
    }
   ],
   "source": [
    "#|hide\n",
    "from compute_benchmarks import *"
   ]
  },
  {
   "cell_type": "markdown",
   "id": "e2e57425",
   "metadata": {},
   "source": [
    "## The simplest possible memcpy shader"
   ]
  },
  {
   "cell_type": "code",
   "execution_count": null,
   "id": "b22e7e1d",
   "metadata": {},
   "outputs": [
    {
     "name": "stdout",
     "output_type": "stream",
     "text": [
      "FMAs: 0.00% (0 / 4)\n",
      "\n",
      "clause_0:\n",
      "ds(0) nbb attr ncph next_attr \n",
      "{\n",
      "    *MKVEC.v2i16 t0, r60, r61\n",
      "    +LD_ATTR_TEX.f32.v4 t1, t, #0.x, #0.x, @r0\n",
      "}\n",
      "\n",
      "clause_1:\n",
      "ds(0) nbb attr ncph next_store dwb(0) \n",
      "{\n",
      "    *NOP t0\n",
      "    +MKVEC.v2i16 t1, r61, r62\n",
      "    *DTSEL_IMM.attribute_1 t0, t1\n",
      "    +LEA_ATTR_TEX.f32 t1, t, 0x00000000 /* 0.000000 */, 0x00000001 /* 0.000000 */, @r4\n",
      "}\n",
      "\n",
      "clause_4:\n",
      "ds(0) eos store \n",
      "{\n",
      "    *NOP t0\n",
      "    +ST_CVT.v4 t1, r4, r5, r6, @r0\n",
      "}\n",
      "\n",
      "shader0 - MESA_SHADER_COMPUTE shader: 0 inst, 0 bundles, 0 quadwords, 0 registers, 4 threads, 0 loops, 0:0 spills:fills\n",
      "\n"
     ]
    }
   ],
   "source": [
    "#| exports\n",
    "createTexture(1, 1, output=False)\n",
    "createTexture(1, 1, texid=1)\n",
    "showShaderDisassembly(\"\"\"\n",
    "#version 310 es\n",
    "    precision mediump float;\n",
    "\n",
    "    layout(local_size_x = 1, local_size_y = 1) in;\n",
    "    layout(rgba32f, binding = 0) uniform mediump readonly image2D img_input;\n",
    "    layout(rgba32f, binding = 1) uniform mediump writeonly image2D img_output;\n",
    "\n",
    "    void main() {\n",
    "      ivec3 start_coords = ivec3(gl_GlobalInvocationID.xyz);\n",
    "      vec4 x = imageLoad(img_input, start_coords.xy + ivec2(0,0));\n",
    "      imageStore(img_output, start_coords.yz, x);\n",
    "    }\n",
    "\"\"\")"
   ]
  },
  {
   "cell_type": "markdown",
   "id": "88813f92",
   "metadata": {},
   "source": [
    "## Adding some MAC"
   ]
  },
  {
   "cell_type": "code",
   "execution_count": null,
   "id": "269a3b2e",
   "metadata": {},
   "outputs": [
    {
     "name": "stdout",
     "output_type": "stream",
     "text": [
      "FMAs: 18.18% (2 / 11)\n",
      "\n",
      "clause_0:\n",
      "ds(0) nbb attr ncph next_attr dwb(0) \n",
      "{\n",
      "    *MKVEC.v2i16 t0, r60, r61\n",
      "    +LD_ATTR_TEX.f32.v4 t1, t, #0.x, #0.x, @r0\n",
      "}\n",
      "\n",
      "clause_1:\n",
      "ds(0) nbb attr ncph next_store dwb(0) \n",
      "{\n",
      "    *NOP t0\n",
      "    +V2F32_TO_V2F16 r0:t1, r0, r1\n",
      "    *NOP t0\n",
      "    +V2F32_TO_V2F16 r1:t1, r2, r3\n",
      "    *FMA.v2f16 t0, r0, r0, r0\n",
      "    +F16_TO_F32 r2:t1, t\n",
      "    *FMA.v2f16 r1:t0, r1, r1, r1\n",
      "    +F16_TO_F32 r0:t1, t0.h1\n",
      "    *F16_TO_F32 r3:t0, t0\n",
      "    +MOV.i32 r4:t1, r2\n",
      "    *F16_TO_F32 t0, r1.h1\n",
      "    +MOV.i32 r5:t1, r0\n",
      "    *MOV.i32 r7:t0, t0\n",
      "    +MKVEC.v2i16 t1, r61, r62\n",
      "    *DTSEL_IMM.attribute_1 t0, t1\n",
      "    +LEA_ATTR_TEX.f32 t1, t, 0x00000000 /* 0.000000 */, 0x00000001 /* 0.000000 */, @r0\n",
      "}\n",
      "\n",
      "clause_7:\n",
      "ds(0) eos store \n",
      "{\n",
      "    *NOP t0\n",
      "    +MOV.i32 r6:t1, r3\n",
      "    *NOP t0\n",
      "    +ST_CVT.v4 t1, r0, r1, r2, @r4\n",
      "}\n",
      "\n",
      "shader1 - MESA_SHADER_COMPUTE shader: 0 inst, 0 bundles, 0 quadwords, 0 registers, 4 threads, 0 loops, 0:0 spills:fills\n",
      "\n"
     ]
    }
   ],
   "source": [
    "createTexture(1, 1, output=False)\n",
    "createTexture(1, 1, texid=1)\n",
    "showShaderDisassembly(\"\"\"\n",
    "#version 310 es\n",
    "    precision mediump float;\n",
    "\n",
    "    layout(local_size_x = 1, local_size_y = 1) in;\n",
    "    layout(rgba32f, binding = 0) uniform mediump readonly image2D img_input;\n",
    "    layout(rgba32f, binding = 1) uniform mediump writeonly image2D img_output;\n",
    "\n",
    "    void main() {\n",
    "      ivec3 start_coords = ivec3(gl_GlobalInvocationID.xyz);\n",
    "      vec4 x = imageLoad(img_input, start_coords.xy + ivec2(0,0));\n",
    "      x = x * x + x;\n",
    "      imageStore(img_output, start_coords.yz, x);\n",
    "    }\n",
    "\"\"\")"
   ]
  },
  {
   "cell_type": "markdown",
   "id": "56778da1",
   "metadata": {},
   "source": [
    "Funny thing, since our local variable `x` is `mediump` (fp16) and our input and output images are fp32 we get lots of F32 to F16 (and back) conversions, not great."
   ]
  },
  {
   "cell_type": "markdown",
   "id": "933762e5",
   "metadata": {},
   "source": [
    "## Fix the datatypes"
   ]
  },
  {
   "cell_type": "code",
   "execution_count": null,
   "id": "ec047d8f",
   "metadata": {},
   "outputs": [
    {
     "name": "stdout",
     "output_type": "stream",
     "text": [
      "FMAs: 50.00% (4 / 8)\n",
      "\n",
      "clause_0:\n",
      "ds(0) nbb attr ncph next_attr \n",
      "{\n",
      "    *MKVEC.v2i16 t0, r60, r61\n",
      "    +LD_ATTR_TEX.f32.v4 t1, t, #0.x, #0.x, @r0\n",
      "}\n",
      "\n",
      "clause_1:\n",
      "ds(0) nbb attr ncph next_store dwb(0) \n",
      "{\n",
      "    *NOP t0\n",
      "    +MKVEC.v2i16 t1, r61, r62\n",
      "    *DTSEL_IMM.attribute_1 t0, t1\n",
      "    +LEA_ATTR_TEX.f32 t1, t, 0x00000000 /* 0.000000 */, 0x00000001 /* 0.000000 */, @r4\n",
      "}\n",
      "\n",
      "clause_4:\n",
      "ds(0) eos store \n",
      "{\n",
      "    *FMA.f32 r0:t0, r0, r0, r0\n",
      "    +NOP t1\n",
      "    *FMA.f32 r1:t0, r1, r1, r1\n",
      "    +NOP t1\n",
      "    *FMA.f32 r2:t0, r2, r2, r2\n",
      "    +NOP t1\n",
      "    *FMA.f32 r3:t0, r3, r3, r3\n",
      "    +NOP t1\n",
      "    *NOP t0\n",
      "    +ST_CVT.v4 t1, r4, r5, r6, @r0\n",
      "}\n",
      "\n",
      "shader2 - MESA_SHADER_COMPUTE shader: 0 inst, 0 bundles, 0 quadwords, 0 registers, 4 threads, 0 loops, 0:0 spills:fills\n",
      "\n"
     ]
    }
   ],
   "source": [
    "createTexture(1, 1, output=False)\n",
    "createTexture(1, 1, texid=1)\n",
    "showShaderDisassembly(\"\"\"\n",
    "#version 310 es\n",
    "    precision mediump float;\n",
    "\n",
    "    layout(local_size_x = 1, local_size_y = 1) in;\n",
    "    layout(rgba32f, binding = 0) uniform mediump readonly image2D img_input;\n",
    "    layout(rgba32f, binding = 1) uniform mediump writeonly image2D img_output;\n",
    "\n",
    "    void main() {\n",
    "      ivec3 start_coords = ivec3(gl_GlobalInvocationID.xyz);\n",
    "      highp vec4 x = imageLoad(img_input, start_coords.xy + ivec2(0,0));\n",
    "      x = x * x + x;\n",
    "      imageStore(img_output, start_coords.yz, x);\n",
    "    }\n",
    "\"\"\")"
   ]
  },
  {
   "cell_type": "markdown",
   "id": "b305094f",
   "metadata": {},
   "source": [
    "That's a lot better."
   ]
  },
  {
   "cell_type": "markdown",
   "id": "b7490fea",
   "metadata": {},
   "source": [
    "## Add some more multiplications"
   ]
  },
  {
   "cell_type": "code",
   "execution_count": null,
   "id": "95e1ee11",
   "metadata": {},
   "outputs": [
    {
     "name": "stdout",
     "output_type": "stream",
     "text": [
      "FMAs: 64.00% (16 / 25)\n",
      "\n",
      "clause_0:\n",
      "ds(0) nbb attr ncph next_attr dwb(0) \n",
      "{\n",
      "    *LSHIFT_OR.i32 r0:t0, r60, #0, 0x00000001 /* 0.000000 */\n",
      "    +NOP t1\n",
      "    *MKVEC.v2i16 t0, t0, r61\n",
      "    +LD_ATTR_TEX.f32.v4 t1, t, #0.x, #0.x, @r1\n",
      "}\n",
      "\n",
      "clause_3:\n",
      "ds(0) nbb attr ncph dwb(0) \n",
      "{\n",
      "    *NOP t0\n",
      "    +IADD.s32 t1, r0, 0x00000001 /* 0.000000 */\n",
      "    *MKVEC.v2i16 t0, t1, r61\n",
      "    +LD_ATTR_TEX.f32.v4 t1, t, #0.x, #0.x, @r5\n",
      "}\n",
      "\n",
      "clause_6:\n",
      "ds(0) nbb ncph \n",
      "{\n",
      "    *FMA.f32 t0, r4, r8, #0.neg\n",
      "    +NOP t1\n",
      "    *FMA.f32 r0:t0, r3, r7, t0\n",
      "    +NOP t1\n",
      "}\n",
      "\n",
      "clause_8:\n",
      "ds(0) nbb ncph next_attr \n",
      "{\n",
      "    *FMA.f32 t0, r2, r6, r0\n",
      "    +NOP t1\n",
      "    *FMA.f32 r0:t0, r1, r5, t0\n",
      "    +NOP t1\n",
      "    *FMA.f32 t0, r4, r7, #0.neg\n",
      "    +NOP t1\n",
      "    *FMA.f32 t0, r3, r8, t0\n",
      "    +NOP t1\n",
      "    *FMA.f32 t0, r2, r5, t0\n",
      "    +NOP t1\n",
      "    *FMA.f32 r9:t0, r1, r6, t0\n",
      "    +NOP t1\n",
      "    *FMA.f32 t0, r4, r6, #0.neg\n",
      "    +NOP t1\n",
      "    *FMA.f32 r10:t0, r3, r5, t0\n",
      "    +NOP t1\n",
      "}\n",
      "\n",
      "clause_14:\n",
      "ds(0) nbb attr ncph next_store dwb(0) \n",
      "{\n",
      "    *FMA.f32 t0, r2, r8, r10\n",
      "    +NOP t1\n",
      "    *FMA.f32 r10:t0, r1, r7, t0\n",
      "    +NOP t1\n",
      "    *FMA.f32 t0, r4, r5, #0.neg\n",
      "    +NOP t1\n",
      "    *FMA.f32 t0, r3, r6, t0\n",
      "    +NOP t1\n",
      "    *FMA.f32 t0, r2, r7, t0\n",
      "    +NOP t1\n",
      "    *FMA.f32 r1:t0, r1, r8, t0\n",
      "    +NOP t1\n",
      "    *MOV.i32 r2:t0, r0\n",
      "    +MKVEC.v2i16 t1, r60, r61\n",
      "    *DTSEL_IMM.attribute_1 t0, t1\n",
      "    +LEA_ATTR_TEX.f32 t1, t, 0x00000000 /* 0.000000 */, 0x00000001 /* 0.000000 */, @r6\n",
      "}\n",
      "\n",
      "clause_20:\n",
      "ds(0) eos store \n",
      "{\n",
      "    *MOV.i32 r3:t0, r9\n",
      "    +MOV.i32 r4:t1, r10\n",
      "    *NOP t0\n",
      "    +MOV.i32 r5:t1, r1\n",
      "    *NOP t0\n",
      "    +ST_CVT.v4 t1, r6, r7, r8, @r2\n",
      "}\n",
      "\n",
      "shader3 - MESA_SHADER_COMPUTE shader: 0 inst, 0 bundles, 0 quadwords, 0 registers, 4 threads, 0 loops, 0:0 spills:fills\n",
      "\n"
     ]
    }
   ],
   "source": [
    "createTexture(3, 1, texid=0, output=False)\n",
    "createTexture(1, 1, texid=1)\n",
    "showShaderDisassembly(\"\"\"\n",
    "    #version 310 es\n",
    "    precision mediump float;\n",
    "\n",
    "    layout(local_size_x = 1, local_size_y = 1) in;\n",
    "    layout(rgba32f, binding = 0) uniform mediump readonly image2D img_input;\n",
    "    layout(rgba32f, binding = 1) uniform mediump writeonly image2D img_output;\n",
    "\n",
    "    void main() {\n",
    "      ivec2 start_coords = ivec2(gl_GlobalInvocationID.xy) * ivec2(2,1);\n",
    "      highp vec4 x, y;\n",
    "      x = imageLoad(img_input, start_coords + ivec2(0,0));\n",
    "      y = imageLoad(img_input, start_coords + ivec2(1,0));\n",
    "      highp vec4 r = vec4(\n",
    "          dot(x.xyzw, y.xyzw),\n",
    "          dot(x.xyzw, y.yxwz),\n",
    "          dot(x.xyzw, y.zwxy),\n",
    "          dot(x.xyzw, y.wzyx)\n",
    "      );\n",
    "      imageStore(img_output, ivec2(gl_GlobalInvocationID.xy), r);\n",
    "    }\n",
    "\"\"\")"
   ]
  }
 ],
 "metadata": {
  "kernelspec": {
   "display_name": "Python 3 (ipykernel)",
   "language": "python",
   "name": "python3"
  }
 },
 "nbformat": 4,
 "nbformat_minor": 5
}
