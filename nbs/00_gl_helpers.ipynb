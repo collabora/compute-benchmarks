{
 "cells": [
  {
   "cell_type": "markdown",
   "metadata": {},
   "source": [
    "# OpenGL helpers\n",
    "\n",
    "> Helper functions to setup OpenGL for simple compute workloads"
   ]
  },
  {
   "cell_type": "code",
   "execution_count": null,
   "metadata": {},
   "outputs": [],
   "source": [
    "#| default_exp gl_helpers"
   ]
  },
  {
   "cell_type": "code",
   "execution_count": null,
   "metadata": {},
   "outputs": [],
   "source": [
    "#| hide\n",
    "from nbdev.showdoc import *"
   ]
  },
  {
   "cell_type": "code",
   "execution_count": null,
   "metadata": {},
   "outputs": [],
   "source": [
    "#| export\n",
    "import os\n",
    "import time\n",
    "import ctypes\n",
    "import glob\n",
    "import re\n",
    "\n",
    "import numpy as np\n",
    "from PIL import Image\n",
    "import OpenGL.GLES3 as gl\n",
    "from OpenGL.GL.shaders import compileProgram,compileShader"
   ]
  },
  {
   "cell_type": "code",
   "execution_count": null,
   "metadata": {},
   "outputs": [],
   "source": [
    "#| export\n",
    "os.environ['PAN_MESA_DEBUG'] = 'trace,sync'\n",
    "os.system(\"rm -f pandecode.dump.*\")\n",
    "_egl = ctypes.cdll.LoadLibrary('./test-egl.so')\n",
    "assert(_egl.setup_gl() == 0)"
   ]
  },
  {
   "cell_type": "code",
   "execution_count": null,
   "metadata": {},
   "outputs": [],
   "source": [
    "#| export\n",
    "_shaders = {}\n",
    "def computeShader(src):\n",
    "    shader = _shaders.get(src) or compileProgram(compileShader(src, gl.GL_COMPUTE_SHADER))\n",
    "    gl.glUseProgram(shader)\n",
    "    _shaders[src] = shader"
   ]
  },
  {
   "cell_type": "code",
   "execution_count": null,
   "metadata": {},
   "outputs": [],
   "source": [
    "#| export\n",
    "_textures = {}\n",
    "def createTexture(w, h, texid=0, fmt=gl.GL_RGBA32F, output=True, src=None):\n",
    "    global shader_format\n",
    "    if fmt == gl.GL_RGBA32F:\n",
    "        shader_format='rgba32f'\n",
    "    elif fmt == gl.GL_RGBA16F:\n",
    "        shader_format='rgba16f'\n",
    "    else:\n",
    "        shader_format=\"unsupported format: \"+str(fmt)\n",
    "    texture = _textures.get((texid, w, h, fmt, output))\n",
    "    if not texture:\n",
    "        texture = gl.glGenTextures(1)\n",
    "        gl.glActiveTexture(gl.GL_TEXTURE0 + texid)\n",
    "        gl.glBindTexture(gl.GL_TEXTURE_2D, texture)\n",
    "        gl.glTexStorage2D(gl.GL_TEXTURE_2D, 1, fmt, w, h)\n",
    "        _textures[(texid,w,h,fmt,output)] = texture\n",
    "    if src is not None:\n",
    "        gl.glActiveTexture(gl.GL_TEXTURE0 + texid)\n",
    "        gl.glBindTexture(gl.GL_TEXTURE_2D, texture)\n",
    "        gl.glTexSubImage2D(gl.GL_TEXTURE_2D, 0, 0, 0, w, h, gl.GL_RGBA, gl.GL_FLOAT, src)\n",
    "    if output:\n",
    "        gl.glBindImageTexture(texid, texture, 0, gl.GL_FALSE, 0, gl.GL_WRITE_ONLY, fmt)\n",
    "    else:\n",
    "        gl.glBindImageTexture(texid, texture, 0, gl.GL_FALSE, 0, gl.GL_READ_ONLY, fmt)\n",
    "    return texture"
   ]
  },
  {
   "cell_type": "code",
   "execution_count": null,
   "metadata": {},
   "outputs": [],
   "source": [
    "#| export\n",
    "_fbo = gl.glGenFramebuffers(1);\n",
    "def downloadTexture(texture, w, h):\n",
    "    gl.glBindFramebuffer(gl.GL_FRAMEBUFFER, _fbo);\n",
    "    gl.glFramebufferTexture2D(gl.GL_FRAMEBUFFER, gl.GL_COLOR_ATTACHMENT0, gl.GL_TEXTURE_2D, texture, 0);\n",
    "    pixels = np.zeros((w,h,4), dtype=np.float32)\n",
    "    gl.glReadPixels(0, 0, w, h, gl.GL_RGBA, gl.GL_FLOAT, pixels)\n",
    "    gl.glBindFramebuffer(gl.GL_FRAMEBUFFER, 0);\n",
    "    image = Image.frombytes('RGBA', (w, h), (pixels*255).astype(np.uint8))\n",
    "    image = image.transpose(Image.Transpose.FLIP_TOP_BOTTOM)\n",
    "    return image\n",
    "\n",
    "def downloadTextureFloat(texture, w, h):\n",
    "    gl.glBindFramebuffer(gl.GL_FRAMEBUFFER, _fbo);\n",
    "    gl.glFramebufferTexture2D(gl.GL_FRAMEBUFFER, gl.GL_COLOR_ATTACHMENT0, gl.GL_TEXTURE_2D, texture, 0);\n",
    "    pixels = np.zeros((w,h,4), dtype=np.float32)\n",
    "    gl.glReadPixels(0, 0, w, h, gl.GL_RGBA, gl.GL_FLOAT, pixels)\n",
    "    gl.glBindFramebuffer(gl.GL_FRAMEBUFFER, 0);\n",
    "    return pixels"
   ]
  },
  {
   "cell_type": "code",
   "execution_count": null,
   "metadata": {},
   "outputs": [],
   "source": [
    "#| export\n",
    "def showLastShaderDisassembly():\n",
    "    dumpfd = open(sorted(glob.glob('pandecode.dump.*'))[-1])\n",
    "    dump = dumpfd.read()\n",
    "    disasm = re.findall(r\"(clause_.*?)(?=^\\s*State:|\\Z)\", dump, flags=re.DOTALL|re.MULTILINE)[-1]\n",
    "    FMAs = len(re.findall(r'^    \\*FMA', disasm, flags=re.MULTILINE))\n",
    "    FMAslots = len(re.findall(r'^    \\*', disasm, flags=re.MULTILINE))\n",
    "    print(f\"FMAs: {FMAs / FMAslots * 100:.2f}% ({FMAs} / {FMAslots})\")\n",
    "    print()\n",
    "    print(disasm)\n",
    "    \n",
    "def showShaderDisassembly(source):\n",
    "    computeShader(source)\n",
    "    gl.glDispatchCompute(1, 1, 1)\n",
    "    showLastShaderDisassembly()"
   ]
  },
  {
   "cell_type": "code",
   "execution_count": null,
   "metadata": {},
   "outputs": [],
   "source": [
    "#| hide\n",
    "import nbdev; nbdev.nbdev_export()"
   ]
  }
 ],
 "metadata": {
  "kernelspec": {
   "display_name": "Python 3 (ipykernel)",
   "language": "python",
   "name": "python3"
  }
 },
 "nbformat": 4,
 "nbformat_minor": 4
}
